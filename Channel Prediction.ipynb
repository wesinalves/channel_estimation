{
 "cells": [
  {
   "cell_type": "code",
   "execution_count": 1,
   "metadata": {},
   "outputs": [
    {
     "name": "stderr",
     "output_type": "stream",
     "text": [
      "Using TensorFlow backend.\n"
     ]
    }
   ],
   "source": [
    "import numpy as np\n",
    "import keras\n",
    "import tensorflow as tf\n",
    "from keras.models import Sequential, Model\n",
    "from keras.layers import Embedding, Input, Reshape, Dense, Lambda, Dropout, Flatten, MaxPooling2D,MaxPooling1D, Conv2D, \\\n",
    "    BatchNormalization, LSTM, GRU, Embedding, Conv1D,SimpleRNN, TimeDistributed, SimpleRNN, ConvLSTM2D, CuDNNLSTM, \\\n",
    "    CuDNNGRU, Bidirectional, Activation, MaxPool2D, AveragePooling2D, RepeatVector, AtrousConvolution1D, MaxPooling1D, Activation\n",
    "from mimo_channels_data_generator2 import RandomChannelMimoDataGenerator\n",
    "from keras.callbacks import TensorBoard\n",
    "#from matplotlib import pyplot as plt\n",
    "import argparse\n",
    "from keras.models import model_from_json\n",
    "from keras.constraints import max_norm\n",
    "import numpy.linalg as la\n",
    "from keras import backend as K\n",
    "import os\n",
    "import shutil\n",
    "import sys\n",
    "import json\n",
    "from datetime import datetime\n",
    "from scipy.io import savemat, loadmat"
   ]
  },
  {
   "cell_type": "code",
   "execution_count": 2,
   "metadata": {},
   "outputs": [],
   "source": [
    "# fix random seed for reproducibility\n",
    "seed = 1\n",
    "np.random.seed(seed)\n",
    "\n",
    "# training parameters\n",
    "epochs = 10\n",
    "\n",
    "# Parameters\n",
    "global Nt\n",
    "global Nr\n",
    "Nr = 8  # num of Rx antennas, will be larger than Nt for uplink massive MIMO\n",
    "Nt = 8  # num of Tx antennas\n",
    "# the sample is a measurement of Y values, and their collection composes an example. The channel estimation\n",
    "min_randomized_snr_db = -1\n",
    "max_randomized_snr_db = 1\n",
    "\n",
    "# must be done per example, each one having a matrix of Nr x numSamplesPerExample of complex numbers\n",
    "numSamplesPerExample = 256 # number of channel uses, input and output pairs\n",
    "numExamplesWithFixedChannel = 1 # if wants a gradient calculated many times with same channel\n",
    "numSamplesPerFixedChannel = numExamplesWithFixedChannel * numSamplesPerExample  # coherence time\n",
    "batch_size = 5 # obs: it may make sense to have the batch size equals the coherence time\n",
    "##### consider to use train_test_split from sklearn\n",
    "num_test_examples = 500  # for evaluating in the end, after training\n",
    "num_validation_examples =  200 # get small number to avoid slowing down the simulation, test in the end\n",
    "num_training_examples = 1000\n",
    "\n",
    "method = 'manual'\n",
    "file = 'channel_data60Ghz_mob.mat'"
   ]
  },
  {
   "cell_type": "code",
   "execution_count": 3,
   "metadata": {},
   "outputs": [],
   "source": [
    "training_generator = RandomChannelMimoDataGenerator(batch_size=batch_size, Nr=Nr, Nt=Nt,\n",
    "                                                    #num_clusters=num_clusters,\n",
    "                                                    numSamplesPerFixedChannel=numSamplesPerFixedChannel,\n",
    "                                                    #numSamplesPerExample=numSamplesPerExample, SNRdB=SNRdB,\n",
    "                                                    numSamplesPerExample=numSamplesPerExample,\n",
    "                                                    # method='random')\n",
    "                                                    method=method,\n",
    "                                                    file = file)\n",
    "training_generator.randomize_SNR = True\n",
    "training_generator.min_randomized_snr_db = min_randomized_snr_db\n",
    "training_generator.max_randomized_snr_db = max_randomized_snr_db\n",
    "\n",
    "_, dataset = training_generator.get_examples(num_training_examples)\n",
    "\n",
    "global H_normalization_factor\n",
    "H_normalization_factor = np.sqrt(Nr * Nt)"
   ]
  },
  {
   "cell_type": "code",
   "execution_count": 6,
   "metadata": {},
   "outputs": [
    {
     "name": "stdout",
     "output_type": "stream",
     "text": [
      "1.0 0.0\n"
     ]
    }
   ],
   "source": [
    "# normalize\n",
    "from sklearn.preprocessing import MinMaxScaler\n",
    "dataset = dataset.reshape(-1,16*8)\n",
    "scaler = MinMaxScaler()\n",
    "scaler.fit(dataset)\n",
    "dataset = scaler.transform(dataset)\n",
    "print(np.max(dataset), np.min(dataset))\n"
   ]
  },
  {
   "cell_type": "code",
   "execution_count": null,
   "metadata": {},
   "outputs": [],
   "source": [
    "# transform to time serie\n"
   ]
  },
  {
   "cell_type": "code",
   "execution_count": null,
   "metadata": {},
   "outputs": [],
   "source": [
    "# split train and test"
   ]
  }
 ],
 "metadata": {
  "kernelspec": {
   "display_name": "Python 3",
   "language": "python",
   "name": "python3"
  },
  "language_info": {
   "codemirror_mode": {
    "name": "ipython",
    "version": 3
   },
   "file_extension": ".py",
   "mimetype": "text/x-python",
   "name": "python",
   "nbconvert_exporter": "python",
   "pygments_lexer": "ipython3",
   "version": "3.6.7"
  }
 },
 "nbformat": 4,
 "nbformat_minor": 2
}
