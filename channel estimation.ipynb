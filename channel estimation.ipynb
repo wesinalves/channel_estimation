{
 "cells": [
  {
   "cell_type": "code",
   "execution_count": 1,
   "metadata": {},
   "outputs": [
    {
     "name": "stderr",
     "output_type": "stream",
     "text": [
      "Using TensorFlow backend.\n"
     ]
    }
   ],
   "source": [
    "import numpy as np\n",
    "import keras\n",
    "import tensorflow as tf\n",
    "from keras.models import Sequential, Model\n",
    "from keras.layers import Embedding, Input, Reshape, Dense, Lambda, Dropout, Flatten, MaxPooling2D,MaxPooling1D, Conv2D, \\\n",
    "    BatchNormalization, LSTM, GRU, Embedding, Conv1D,SimpleRNN, TimeDistributed, SimpleRNN, ConvLSTM2D, CuDNNLSTM, \\\n",
    "    CuDNNGRU, Bidirectional, Activation, MaxPool2D, AveragePooling2D, RepeatVector, AtrousConvolution1D, MaxPooling1D, Activation\n",
    "from mimo_channels_data_generator2 import RandomChannelMimoDataGenerator\n",
    "from keras.callbacks import TensorBoard\n",
    "#from matplotlib import pyplot as plt\n",
    "import argparse\n",
    "from keras.models import model_from_json\n",
    "from keras.constraints import max_norm\n",
    "import numpy.linalg as la\n",
    "from keras import backend as K\n",
    "import os\n",
    "import shutil\n",
    "import sys\n",
    "import json\n",
    "from datetime import datetime\n",
    "from scipy.io import savemat, loadmat"
   ]
  },
  {
   "cell_type": "code",
   "execution_count": 2,
   "metadata": {},
   "outputs": [],
   "source": [
    "# fix random seed for reproducibility\n",
    "seed = 1\n",
    "np.random.seed(seed)\n",
    "\n",
    "# training parameters\n",
    "epochs = 10\n",
    "\n",
    "# Parameters\n",
    "global Nt\n",
    "global Nr\n",
    "Nr = 8  # num of Rx antennas, will be larger than Nt for uplink massive MIMO\n",
    "Nt = 8  # num of Tx antennas\n",
    "# the sample is a measurement of Y values, and their collection composes an example. The channel estimation\n",
    "min_randomized_snr_db = -1\n",
    "max_randomized_snr_db = 1\n",
    "\n",
    "# must be done per example, each one having a matrix of Nr x numSamplesPerExample of complex numbers\n",
    "numSamplesPerExample = 256 # number of channel uses, input and output pairs\n",
    "numExamplesWithFixedChannel = 1 # if wants a gradient calculated many times with same channel\n",
    "numSamplesPerFixedChannel = numExamplesWithFixedChannel * numSamplesPerExample  # coherence time\n",
    "batch_size = 5 # obs: it may make sense to have the batch size equals the coherence time\n",
    "##### consider to use train_test_split from sklearn\n",
    "num_test_examples = 500  # for evaluating in the end, after training\n",
    "num_validation_examples =  200 # get small number to avoid slowing down the simulation, test in the end\n",
    "num_training_examples = 1000\n",
    "\n",
    "method = 'manual'\n",
    "file = 'channel_data60Ghz_mob.mat'"
   ]
  },
  {
   "cell_type": "code",
   "execution_count": 10,
   "metadata": {},
   "outputs": [
    {
     "name": "stdout",
     "output_type": "stream",
     "text": [
      "(5000, 256, 16)\n",
      "(5000, 16, 8)\n",
      "(1000, 256, 16)\n"
     ]
    }
   ],
   "source": [
    "training_generator = RandomChannelMimoDataGenerator(batch_size=batch_size, Nr=Nr, Nt=Nt,\n",
    "                                                    #num_clusters=num_clusters,\n",
    "                                                    numSamplesPerFixedChannel=numSamplesPerFixedChannel,\n",
    "                                                    #numSamplesPerExample=numSamplesPerExample, SNRdB=SNRdB,\n",
    "                                                    numSamplesPerExample=numSamplesPerExample,\n",
    "                                                    # method='random')\n",
    "                                                    method=method,\n",
    "                                                    file = file)\n",
    "training_generator.randomize_SNR = True\n",
    "training_generator.min_randomized_snr_db = min_randomized_snr_db\n",
    "training_generator.max_randomized_snr_db = max_randomized_snr_db\n",
    "\n",
    "input_train, output_train = training_generator.get_examples(num_training_examples)\n",
    "#savemat(f\"C:\\\\Users\\\\wesin\\\\Documents\\\\Wesin\\\\Doutorado\\\\channel-estimation\\\\datasets\\\\1-bit\\\\mimo8x8_60Hz_mob.mat\", {'inputs': input_train, 'outputs': output_train})\n",
    "#input_train = input_train.reshape((-1,1,2*Nr))\n",
    "print(input_train.shape)\n",
    "print(output_train.shape)\n",
    "input_val, output_val = training_generator.get_examples(num_validation_examples)\n",
    "#input_val = input_val.reshape((-1,1,2*Nr))\n",
    "print(input_val.shape)\n",
    "\n",
    "global H_normalization_factor\n",
    "H_normalization_factor = np.sqrt(Nr * Nt)"
   ]
  },
  {
   "cell_type": "code",
   "execution_count": 11,
   "metadata": {},
   "outputs": [
    {
     "name": "stdout",
     "output_type": "stream",
     "text": [
      "4096   128\n"
     ]
    }
   ],
   "source": [
    "# real / compl as twice number of rows\n",
    "input_shape = (numSamplesPerExample, 2 * (Nr))\n",
    "output_dim = (2 * Nr, Nt)\n",
    "\n",
    "numInputs = np.prod(input_shape)\n",
    "numOutputs = np.prod(output_dim)\n",
    "print(numInputs, \" \", numOutputs)"
   ]
  },
  {
   "cell_type": "code",
   "execution_count": 12,
   "metadata": {},
   "outputs": [],
   "source": [
    "input_train = input_train.reshape((-1,256*16))\n",
    "output_train = output_train.reshape((-1,16*8))\n",
    "input_val = input_val.reshape((-1,256*16))\n",
    "output_val = output_val.reshape((-1,16*8))"
   ]
  },
  {
   "cell_type": "code",
   "execution_count": 13,
   "metadata": {},
   "outputs": [
    {
     "data": {
      "text/plain": [
       "LinearRegression(copy_X=True, fit_intercept=True, n_jobs=None, normalize=False)"
      ]
     },
     "execution_count": 13,
     "metadata": {},
     "output_type": "execute_result"
    }
   ],
   "source": [
    "from sklearn.linear_model import LinearRegression\n",
    "model = LinearRegression()\n",
    "model.fit(input_train, output_train)"
   ]
  },
  {
   "cell_type": "code",
   "execution_count": 14,
   "metadata": {},
   "outputs": [
    {
     "name": "stdout",
     "output_type": "stream",
     "text": [
      "0.4132191165795876\n"
     ]
    }
   ],
   "source": [
    "from sklearn.metrics import mean_squared_error\n",
    "channel_predictions = model.predict(input_val)\n",
    "lin_mse = mean_squared_error(output_val, channel_predictions)\n",
    "lin_rmse = np.sqrt(lin_mse)\n",
    "print(lin_rmse)"
   ]
  },
  {
   "cell_type": "code",
   "execution_count": 15,
   "metadata": {},
   "outputs": [],
   "source": [
    "# test with disjoint test set\n",
    "#SNRdB_values = np.arange(-30,20)\n",
    "SNRdB_values = np.arange(-21,22,3)\n",
    "training_generator.randomize_SNR = False\n",
    "training_generator.method = 'manual'\n",
    "all_nmse_db_average = np.zeros((SNRdB_values.shape))\n",
    "all_nmse_db_min = np.zeros((SNRdB_values.shape))\n",
    "all_nmse_db_max = np.zeros((SNRdB_values.shape))"
   ]
  },
  {
   "cell_type": "code",
   "execution_count": 10,
   "metadata": {},
   "outputs": [
    {
     "name": "stdout",
     "output_type": "stream",
     "text": [
      "overall MSE =  0.624452281316076\n",
      "overall NMSE =  0.009757066895563687\n",
      "NMSE: mean 0.6258731571950327 min 0.43297801778353506 max 0.8251925773005846\n",
      "NMSE dB: mean -2.0663320136346863 min -3.6353415214005294 max -0.8344468720869624\n",
      "overall MSE =  0.5826437540204535\n",
      "overall NMSE =  0.009103808656569587\n",
      "NMSE: mean 0.5851882109806723 min 0.38732597460184887 max 0.7903120845381982\n",
      "NMSE dB: mean -2.3538602758426195 min -4.119233776640667 max -1.0220137728115926\n",
      "overall MSE =  0.5246188487887836\n",
      "overall NMSE =  0.008197169512324744\n",
      "NMSE: mean 0.5234630719061449 min 0.388864644097046 max 0.7231467904913476\n",
      "NMSE dB: mean -2.8421180177971017 min -4.102015414798828 max -1.4077353696596582\n",
      "overall MSE =  0.4562227324161927\n",
      "overall NMSE =  0.007128480194003011\n",
      "NMSE: mean 0.45142974738500274 min 0.2680948045190651 max 0.7091336264550112\n",
      "NMSE dB: mean -3.4876342778328198 min -5.717116022445135 max -1.4927192029800125\n",
      "overall MSE =  0.3736659053003656\n",
      "overall NMSE =  0.005838529770318212\n",
      "NMSE: mean 0.37296547107923467 min 0.22401154105982435 max 0.5555321463706391\n",
      "NMSE dB: mean -4.32392482229511 min -6.497296062663719 max -2.5529080515256224\n",
      "overall MSE =  0.28981087180157283\n",
      "overall NMSE =  0.0045282948718995755\n",
      "NMSE: mean 0.2898804692568034 min 0.16418145518214788 max 0.5143323498062349\n",
      "NMSE dB: mean -5.425335717706277 min -7.846758993901557 max -2.8875615913117403\n",
      "overall MSE =  0.21745019859900905\n",
      "overall NMSE =  0.0033976593531095164\n",
      "NMSE: mean 0.22203916684812391 min 0.14808973630027802 max 0.5163465376596531\n",
      "NMSE dB: mean -6.5931774222293615 min -8.29475040213546 max -2.8705873077698305\n",
      "overall MSE =  0.17020739175559835\n",
      "overall NMSE =  0.002659490496181224\n",
      "NMSE: mean 0.1705949185279668 min 0.10906986840556981 max 0.3455633400881889\n",
      "NMSE dB: mean -7.733124395421673 min -9.622952108469454 max -4.614723369162227\n",
      "overall MSE =  0.14918553303332274\n",
      "overall NMSE =  0.002331023953645668\n",
      "NMSE: mean 0.14959995278107396 min 0.09439710117577901 max 0.21770636117970754\n",
      "NMSE dB: mean -8.298572871353132 min -10.2504134217114 max -6.621288810880545\n",
      "overall MSE =  0.1474483238007867\n",
      "overall NMSE =  0.0023038800593872923\n",
      "NMSE: mean 0.1491771656410987 min 0.0849609370479569 max 0.2981011607867298\n",
      "NMSE dB: mean -8.323969505897225 min -10.707807063319004 max -5.256363328493219\n",
      "overall MSE =  0.1518207689020165\n",
      "overall NMSE =  0.002372199514094008\n",
      "NMSE: mean 0.153808700480251 min 0.07775075150702193 max 0.2392611054029463\n",
      "NMSE dB: mean -8.18841809487086 min -11.092954045676787 max -6.2112789512568085\n",
      "overall MSE =  0.15585906868368296\n",
      "overall NMSE =  0.0024352979481825463\n",
      "NMSE: mean 0.15659479996557105 min 0.0747490402268515 max 0.3288795652343463\n",
      "NMSE dB: mean -8.126507960824105 min -11.26394379282573 max -4.8296311034729165\n",
      "overall MSE =  0.15830884195223752\n",
      "overall NMSE =  0.002473575655503711\n",
      "NMSE: mean 0.1580149767925204 min 0.07191223395255307 max 0.3482156675840977\n",
      "NMSE dB: mean -8.09864535439448 min -11.431972196850516 max -4.581516921726249\n",
      "overall MSE =  0.15939760560323976\n",
      "overall NMSE =  0.0024905875875506213\n",
      "NMSE: mean 0.15854445445968468 min 0.0770946287420895 max 0.3505154147929481\n",
      "NMSE dB: mean -8.07979045819876 min -11.129758786148088 max -4.552928780901617\n",
      "overall MSE =  0.16151035890176985\n",
      "overall NMSE =  0.002523599357840154\n",
      "NMSE: mean 0.1623701506647395 min 0.07523963643243722 max 0.3497199880466137\n",
      "NMSE dB: mean -7.9710324775646 min -11.23553311683166 max -4.562795451277771\n"
     ]
    }
   ],
   "source": [
    "#evaluate for several SNR values\n",
    "it=0\n",
    "for SNRdB in SNRdB_values:\n",
    "    training_generator.SNRdB = SNRdB\n",
    "    #get rid of the last example in the training_generator's memory (flush it)\n",
    "    testInput, testOutput = training_generator.get_examples(1)\n",
    "    #now get the actual examples:\n",
    "    testInput, testOutput = training_generator.get_examples(num_test_examples)\n",
    "    savemat(f\"C:\\\\Users\\\\wesin\\\\Documents\\\\Wesin\\\\Doutorado\\\\channel-estimation\\\\datasets\\\\1-bit\\\\testing2\\\\mimo8x8_{SNRdB}snr_60Hz_mob.mat\", {'inputs': testInput, 'outputs': testOutput})\n",
    "    \n",
    "    testInput = testInput.reshape((-1,256*16))\n",
    "    testOutput = testOutput.reshape((-1,16*8))\n",
    "    \n",
    "    predictedOutput = model.predict(testInput)\n",
    "    \n",
    "    error = testOutput - predictedOutput\n",
    "\n",
    "    mseTest = np.mean(error[:] ** 2)\n",
    "    print('overall MSE = ', mseTest)\n",
    "    mean_nmse = mseTest / (Nr * Nt)\n",
    "    print('overall NMSE = ', mean_nmse)\n",
    "    nmses = np.zeros((num_test_examples,))\n",
    "    for i in range(num_test_examples):\n",
    "        this_H = testInput[i]\n",
    "        this_error = error[i]\n",
    "        nmses[i] = np.mean(this_error[:] ** 2) / np.mean(this_H[:] ** 2)\n",
    "\n",
    "    print('NMSE: mean', np.mean(nmses), 'min', np.min(nmses), 'max', np.max(nmses))\n",
    "    nmses_db = 10 * np.log10(nmses)\n",
    "    print('NMSE dB: mean', np.mean(nmses_db), 'min', np.min(nmses_db), 'max', np.max(nmses_db))\n",
    "    all_nmse_db_average[it] = np.mean(nmses_db)\n",
    "    all_nmse_db_min[it] = np.min(nmses_db)\n",
    "    all_nmse_db_max[it] = np.max(nmses_db)"
   ]
  },
  {
   "cell_type": "markdown",
   "metadata": {},
   "source": [
    "# Using offline data"
   ]
  },
  {
   "cell_type": "code",
   "execution_count": 3,
   "metadata": {},
   "outputs": [],
   "source": [
    "from scipy.io import loadmat\n",
    "mat = loadmat(\"C:\\\\Users\\\\wesin\\\\Documents\\\\Wesin\\\\Doutorado\\\\channel-estimation\\\\datasets\\\\1-bit\\\\mimo8x8_60Hz_mob\")\n",
    "inputs, outputs = [mat[key] for key in [\"inputs\", \"outputs\"]]"
   ]
  },
  {
   "cell_type": "code",
   "execution_count": 4,
   "metadata": {},
   "outputs": [
    {
     "name": "stdout",
     "output_type": "stream",
     "text": [
      "(5000, 4096)\n",
      "(5000, 128)\n"
     ]
    }
   ],
   "source": [
    "input_train = inputs.reshape((-1,256*16))\n",
    "output_train = outputs.reshape((-1,16*8))\n",
    "print(input_train.shape)\n",
    "print(output_train.shape)"
   ]
  },
  {
   "cell_type": "code",
   "execution_count": 17,
   "metadata": {},
   "outputs": [
    {
     "data": {
      "text/plain": [
       "KNeighborsRegressor(algorithm='auto', leaf_size=30, metric='minkowski',\n",
       "                    metric_params=None, n_jobs=None, n_neighbors=5, p=2,\n",
       "                    weights='uniform')"
      ]
     },
     "execution_count": 17,
     "metadata": {},
     "output_type": "execute_result"
    }
   ],
   "source": [
    "from sklearn.linear_model import LinearRegression, Ridge\n",
    "from sklearn.neighbors import KNeighborsRegressor\n",
    "model = KNeighborsRegressor(n_neighbors=5)\n",
    "model.fit(input_train, output_train)"
   ]
  },
  {
   "cell_type": "code",
   "execution_count": 18,
   "metadata": {},
   "outputs": [
    {
     "name": "stdout",
     "output_type": "stream",
     "text": [
      "0.2609538654778709\n"
     ]
    }
   ],
   "source": [
    "from sklearn.metrics import mean_squared_error\n",
    "channel_predictions = model.predict(input_train[0:1000])\n",
    "lin_mse = mean_squared_error(output_train[0:1000], channel_predictions)\n",
    "lin_rmse = np.sqrt(lin_mse)\n",
    "print(lin_rmse)"
   ]
  },
  {
   "cell_type": "code",
   "execution_count": 15,
   "metadata": {},
   "outputs": [],
   "source": [
    "# test with disjoint test set\n",
    "#SNRdB_values = np.arange(-30,20)\n",
    "SNRdB_values = np.arange(-21,22,3)\n",
    "all_nmse_db_average = np.zeros((SNRdB_values.shape))\n",
    "all_nmse_db_min = np.zeros((SNRdB_values.shape))\n",
    "all_nmse_db_max = np.zeros((SNRdB_values.shape))"
   ]
  },
  {
   "cell_type": "code",
   "execution_count": 19,
   "metadata": {},
   "outputs": [
    {
     "name": "stdout",
     "output_type": "stream",
     "text": [
      "overall MSE =  0.46330205956495313\n",
      "overall NMSE =  0.007239094680702393\n",
      "NMSE: mean 0.4633020595649532 min 0.026233850673760148 max 0.789020841012996\n",
      "NMSE dB: mean -3.704212518179597 min -15.8113795784177 max -1.0291152528563285\n",
      "overall MSE =  0.3788423661189883\n",
      "overall NMSE =  0.005919411970609192\n",
      "NMSE: mean 0.3788423661189883 min 0.012224496844278718 max 0.7969019528268194\n",
      "NMSE dB: mean -4.973044960162028 min -19.127690072350404 max -0.9859510892468841\n",
      "overall MSE =  0.2951589195259525\n",
      "overall NMSE =  0.004611858117593008\n",
      "NMSE: mean 0.29515891952595263 min 0.006820195568827765 max 0.7988458142122755\n",
      "NMSE dB: mean -6.5974871272023305 min -21.662031717885398 max -0.9753703607846874\n",
      "overall MSE =  0.22082171434869352\n",
      "overall NMSE =  0.0034503392866983363\n",
      "NMSE: mean 0.2208217143486936 min 0.0038734179310085377 max 0.7788986649710815\n",
      "NMSE dB: mean -8.215279603723273 min -24.11905641320521 max -1.0851904053869204\n",
      "overall MSE =  0.17736486735922782\n",
      "overall NMSE =  0.0027713260524879347\n",
      "NMSE: mean 0.17736486735922788 min 2.6728032391997087e-32 max 0.6788369684683548\n",
      "NMSE dB: mean -9.425522592877291 min -315.73033011043333 max -1.6823451466810433\n",
      "overall MSE =  0.13824547861182765\n",
      "overall NMSE =  0.002160085603309807\n",
      "NMSE: mean 0.13824547861182762 min 0.003717988711938667 max 0.6585998568649665\n",
      "NMSE dB: mean -10.263252366086308 min -24.296919331090876 max -1.8137836801032723\n",
      "overall MSE =  0.11516774917312839\n",
      "overall NMSE =  0.001799496080830131\n",
      "NMSE: mean 0.11516774917312837 min 0.0014918221012176626 max 0.6065039642168266\n",
      "NMSE dB: mean -11.0938666186919 min -28.262829631005832 max -2.1716635616283875\n",
      "overall MSE =  0.11076557720882015\n",
      "overall NMSE =  0.0017307121438878148\n",
      "NMSE: mean 0.11076557720882015 min 0.0018242642592316682 max 0.6989302434925571\n",
      "NMSE dB: mean -11.183624409403736 min -27.389122504301383 max -1.5556616671210644\n",
      "overall MSE =  0.10396761761625428\n",
      "overall NMSE =  0.0016244940252539732\n",
      "NMSE: mean 0.10396761761625428 min 0.0006434869795546782 max 0.614810323208262\n",
      "NMSE dB: mean -11.47312548975555 min -31.914602362728253 max -2.112588489231966\n",
      "overall MSE =  0.10272883977313522\n",
      "overall NMSE =  0.0016051381214552379\n",
      "NMSE: mean 0.10272883977313522 min 0.0016338825063260043 max 0.5715348831513696\n",
      "NMSE dB: mean -11.584613017839702 min -27.86779177111388 max -2.4295725766096288\n",
      "overall MSE =  0.10045472500981659\n",
      "overall NMSE =  0.0015696050782783842\n",
      "NMSE: mean 0.10045472500981657 min 0.002738896578976473 max 0.5580408867034629\n",
      "NMSE dB: mean -11.715873253271955 min -25.624243664418476 max -2.5333397988110677\n",
      "overall MSE =  0.09917940882479075\n",
      "overall NMSE =  0.0015496782628873554\n",
      "NMSE: mean 0.09917940882479075 min 0.003440512635922741 max 0.5983061921584618\n",
      "NMSE dB: mean -11.725564148358092 min -24.63376842787377 max -2.2307650241228254\n",
      "overall MSE =  0.10043415866835892\n",
      "overall NMSE =  0.0015692837291931081\n",
      "NMSE: mean 0.1004341586683589 min 6.590570937947133e-34 max 0.5864978410724203\n",
      "NMSE dB: mean -11.84458393281511 min -331.8107696105705 max -2.317335822049914\n",
      "overall MSE =  0.09988060481489656\n",
      "overall NMSE =  0.0015606344502327588\n",
      "NMSE: mean 0.09988060481489654 min 0.0017397021641007003 max 0.8022465523723697\n",
      "NMSE dB: mean -11.680457811546775 min -27.595250962916165 max -0.9569214059440627\n",
      "overall MSE =  0.10140266323513113\n",
      "overall NMSE =  0.0015844166130489239\n",
      "NMSE: mean 0.10140266323513115 min 2.6728032391997087e-32 max 0.5619116689280363\n",
      "NMSE dB: mean -11.736418537358123 min -315.73033011043333 max -2.5033194904331717\n"
     ]
    }
   ],
   "source": [
    "#evaluate for several SNR values\n",
    "Nr = 8  # num of Rx antennas, will be larger than Nt for uplink massive MIMO\n",
    "Nt = 8  # num of Tx antennas\n",
    "num_test_examples = 2500\n",
    "it=0\n",
    "for SNRdB in SNRdB_values:\n",
    "    mat = loadmat(f\"C:\\\\Users\\\\wesin\\\\Documents\\\\Wesin\\\\Doutorado\\\\channel-estimation\\\\datasets\\\\1-bit\\\\testing2\\\\mimo8x8_{SNRdB}snr_60Hz_mob.mat\")\n",
    "    inputs, outputs = [mat[key] for key in [\"inputs\", \"outputs\"]]\n",
    "    \n",
    "    testInput = inputs.reshape((-1,256*16))\n",
    "    testOutput = outputs.reshape((-1,16*8))\n",
    "    \n",
    "    predictedOutput = model.predict(testInput)\n",
    "    \n",
    "    error = testOutput - predictedOutput\n",
    "\n",
    "    mseTest = np.mean(error[:] ** 2)\n",
    "    print('overall MSE = ', mseTest)\n",
    "    mean_nmse = mseTest / (Nr * Nt)\n",
    "    print('overall NMSE = ', mean_nmse)\n",
    "    nmses = np.zeros((num_test_examples,))\n",
    "    for i in range(num_test_examples):\n",
    "        this_H = testInput[i]\n",
    "        this_error = error[i]\n",
    "        nmses[i] = np.mean(this_error[:] ** 2) / np.mean(this_H[:] ** 2)\n",
    "\n",
    "    print('NMSE: mean', np.mean(nmses), 'min', np.min(nmses), 'max', np.max(nmses))\n",
    "    nmses_db = 10 * np.log10(nmses)\n",
    "    print('NMSE dB: mean', np.mean(nmses_db), 'min', np.min(nmses_db), 'max', np.max(nmses_db))\n",
    "    all_nmse_db_average[it] = np.mean(nmses_db)\n",
    "    all_nmse_db_min[it] = np.min(nmses_db)\n",
    "    all_nmse_db_max[it] = np.max(nmses_db)"
   ]
  },
  {
   "cell_type": "code",
   "execution_count": null,
   "metadata": {},
   "outputs": [],
   "source": []
  }
 ],
 "metadata": {
  "kernelspec": {
   "display_name": "Python 3",
   "language": "python",
   "name": "python3"
  },
  "language_info": {
   "codemirror_mode": {
    "name": "ipython",
    "version": 3
   },
   "file_extension": ".py",
   "mimetype": "text/x-python",
   "name": "python",
   "nbconvert_exporter": "python",
   "pygments_lexer": "ipython3",
   "version": "3.7.5"
  }
 },
 "nbformat": 4,
 "nbformat_minor": 2
}
